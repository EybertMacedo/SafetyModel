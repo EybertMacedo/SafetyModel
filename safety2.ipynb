{
 "cells": [
  {
   "cell_type": "code",
   "id": "initial_id",
   "metadata": {
    "collapsed": true
   },
   "source": [
    "import supervision as sv\n",
    "import numpy as np\n",
    "from ultralytics import YOLO\n",
    "import os\n",
    "\n",
    "# Cargar el modelo YOLO\n",
    "\n",
    "model_path = \"runs/detect/train3/weights/best.pt\" \n",
    "model = YOLO(model_path)\n",
    "\n",
    "# Definir el polígono para la zona de peligro\n",
    "\n",
    "# polygon = np.array([\n",
    "#     [936, 419],\n",
    "#     [1167, 429],\n",
    "#     [1177, 375],\n",
    "#     [984, 360]\n",
    "# ])\n",
    "\n",
    "polygon = np.array([        \n",
    "    [1170,1078],\n",
    "    [1308,648],\n",
    "    [1600,686],\n",
    "    [1700,1076]\n",
    "])\n",
    "\n",
    "# Inicializar la zona poligonal\n",
    "zone = sv.PolygonZone(polygon=polygon)\n",
    "\n",
    "# initiate annotators\n",
    "box_annotator = sv.BoxAnnotator(thickness=4)\n",
    "label_annotator = sv.LabelAnnotator(text_thickness=4, text_scale=2)\n",
    "zone_annotator = sv.PolygonZoneAnnotator(zone=zone, color=sv.Color.RED, thickness=3, text_thickness=3, text_scale=4, display_in_zone_count=False)\n",
    "\n",
    "\n",
    "def callback(frame: np.ndarray, _) -> np.ndarray:\n",
    "    # detect\n",
    "    results = model(frame, imgsz=1280)[0]\n",
    "    detections = sv.Detections.from_ultralytics(results)\n",
    "    zone.trigger(detections=detections[detections.class_id == 0])\n",
    "    \n",
    "    # annotate\n",
    "    labels = [f\"{model.names[class_id]} {confidence:0.2f}\" for _, _, confidence, class_id, _, _ in detections]\n",
    "    frame = box_annotator.annotate(scene=frame, detections=detections)\n",
    "    frame = label_annotator.annotate(scene=frame, detections=detections, labels=labels)\n",
    "    frame = zone_annotator.annotate(scene=frame)    \n",
    "    if zone.trigger(detections=detections[detections.class_id == 0]).any():\n",
    "        text_anchor = sv.Point(x=1050, y=550)\n",
    "        frame = sv.draw_text(scene=frame, text=\"PELIGRO!\",text_anchor=text_anchor,text_thickness=2, text_scale = 1.5, background_color = sv.Color.RED, text_color=sv.Color.WHITE)\n",
    "    return frame\n",
    "\n",
    "sv.process_video(source_path=\"data/0_safe_walkway_violation/0_te1.mp4\", target_path=f\"results/result_0_te1.mp4\", callback=callback)\n",
    "\n",
    "from IPython import display\n",
    "display.clear_output()\n"
   ],
   "execution_count": 10,
   "outputs": []
  },
  {
   "metadata": {},
   "cell_type": "code",
   "outputs": [],
   "execution_count": null,
   "source": " ",
   "id": "f6118d7b9dc74093"
  }
 ],
 "metadata": {
  "kernelspec": {
   "display_name": "Python 3",
   "language": "python",
   "name": "python3"
  },
  "language_info": {
   "codemirror_mode": {
    "name": "ipython",
    "version": 2
   },
   "file_extension": ".py",
   "mimetype": "text/x-python",
   "name": "python",
   "nbconvert_exporter": "python",
   "pygments_lexer": "ipython2",
   "version": "2.7.6"
  }
 },
 "nbformat": 4,
 "nbformat_minor": 5
}
