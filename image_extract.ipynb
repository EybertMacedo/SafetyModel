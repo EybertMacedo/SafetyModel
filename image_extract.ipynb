{
 "cells": [
  {
   "metadata": {
    "collapsed": true,
    "ExecuteTime": {
     "end_time": "2024-08-17T20:07:51.206290Z",
     "start_time": "2024-08-17T20:07:51.203865Z"
    }
   },
   "cell_type": "code",
   "source": [
    "import supervision as sv\n",
    "import cv2\n",
    "import os"
   ],
   "id": "initial_id",
   "outputs": [],
   "execution_count": 14
  },
  {
   "metadata": {
    "ExecuteTime": {
     "end_time": "2024-08-17T20:42:12.576945Z",
     "start_time": "2024-08-17T20:41:35.490881Z"
    }
   },
   "cell_type": "code",
   "source": [
    "for dirpath, dirnames, filenames in os.walk(\"data\"):\n",
    "    test_video_count = 0\n",
    "    for filename in filenames:\n",
    "        if filename.endswith(\".mp4\"):\n",
    "            source_path = f'{dirpath}/{filename}'\n",
    "            generator = sv.get_video_frames_generator(source_path)\n",
    "            video_info = sv.VideoInfo.from_video_path(source_path)\n",
    "\n",
    "            iterator = iter(generator)\n",
    "            for i in range(video_info.total_frames//2):\n",
    "                frame = next(iterator)\n",
    "            cv2.imwrite(f'test_images/{filename[:-4]}_{test_video_count}.png', frame)\n",
    "            test_video_count += 1\n"
   ],
   "id": "f6118d7b9dc74093",
   "outputs": [],
   "execution_count": 30
  }
 ],
 "metadata": {
  "kernelspec": {
   "display_name": "Python 3",
   "language": "python",
   "name": "python3"
  },
  "language_info": {
   "codemirror_mode": {
    "name": "ipython",
    "version": 2
   },
   "file_extension": ".py",
   "mimetype": "text/x-python",
   "name": "python",
   "nbconvert_exporter": "python",
   "pygments_lexer": "ipython2",
   "version": "2.7.6"
  }
 },
 "nbformat": 4,
 "nbformat_minor": 5
}
