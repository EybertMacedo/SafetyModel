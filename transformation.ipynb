{
 "cells": [
  {
   "cell_type": "code",
   "id": "initial_id",
   "metadata": {
    "collapsed": true,
    "ExecuteTime": {
     "end_time": "2024-08-16T23:52:14.563102Z",
     "start_time": "2024-08-16T23:52:14.466140Z"
    }
   },
   "source": [
    "import cv2\n",
    "import numpy as np\n",
    "vidcap = cv2.VideoCapture(\"./data/0_te1.mp4\")\n",
    "success,image = vidcap.read()\n",
    "\n",
    "while success:\n",
    "    success,image = vidcap.read()\n",
    "    frame = cv2.resize(image,(1280,720))\n",
    "    \n",
    "    #coordinates\n",
    "     \n",
    "    tl = (872,442)\n",
    "    tr = (1067,462)\n",
    "    bl = (792,686)\n",
    "    br = (1135,715)\n",
    "    \n",
    "    cv2.circle(frame, tl, 5, (0,0,255), -1)\n",
    "    cv2.circle(frame, tr, 5, (0,0,255), -1)\n",
    "    cv2.circle(frame, bl, 5, (0,0,255), -1)\n",
    "    cv2.circle(frame, br, 5, (0,0,255), -1)\n",
    "    \n",
    "    # Apply Geometrical transform\n",
    "    pts1 = np.float32([tl,bl,tr,br])\n",
    "    pts2 = np.float32([[0,0],[0,720],[1280,0],[1280,720]])\n",
    "    \n",
    "    matrix = cv2.getPerspectiveTransform(pts1,pts2)\n",
    "    transformed = cv2.warpPerspective(frame,matrix,(1280,720))\n",
    "\n",
    "    cv2.imshow('Frame',frame)\n",
    "    cv2.imshow('Transformed',transformed)\n",
    "    \n",
    "    cv2.imshow('Frame',frame)\n",
    "    \n",
    "    if cv2.waitKey(1) == 27:\n",
    "        break"
   ],
   "outputs": [],
   "execution_count": 1
  }
 ],
 "metadata": {
  "kernelspec": {
   "display_name": "Python 3",
   "language": "python",
   "name": "python3"
  },
  "language_info": {
   "codemirror_mode": {
    "name": "ipython",
    "version": 2
   },
   "file_extension": ".py",
   "mimetype": "text/x-python",
   "name": "python",
   "nbconvert_exporter": "python",
   "pygments_lexer": "ipython2",
   "version": "2.7.6"
  }
 },
 "nbformat": 4,
 "nbformat_minor": 5
}
